{
 "cells": [
  {
   "cell_type": "code",
   "execution_count": null,
   "metadata": {},
   "outputs": [],
   "source": [
    "# GPU and auto-reload\n",
    "# (In the Colab UI: Runtime ▷ Change runtime type ▷ GPU)\n",
    "%load_ext autoreload\n",
    "%autoreload 2\n"
   ]
  },
  {
   "cell_type": "code",
   "execution_count": null,
   "metadata": {},
   "outputs": [],
   "source": [
    "    # In your local_test_runner.ipynb (or modified colab_runner.ipynb) - Cell 1\n",
    "    from google.colab import drive # This line will do nothing locally, or you can comment it out\n",
    "    # drive.mount('/content/drive') # Comment this out for local execution\n",
    "\n",
    "    # --- FOR LOCAL TESTING ---\n",
    "    import os\n",
    "    # Define a base directory for your local \"drive\"\n",
    "    LOCAL_PROJECT_BASE = './temp_colab_env_data' # Or an absolute path like '/Users/yourname/my_project_data'\n",
    "    os.makedirs(LOCAL_PROJECT_BASE, exist_ok=True) # Create it if it doesn't exist\n",
    "\n",
    "    DRIVE_ROOT = os.path.abspath(LOCAL_PROJECT_BASE) # Use absolute path for clarity\n",
    "    # --- END LOCAL TESTING SETUP ---\n",
    "\n",
    "    # The rest of Cell 1 remains the same, using the new DRIVE_ROOT\n",
    "    DATA_ROOT  = f'{DRIVE_ROOT}/datasets/meld_data'\n",
    "    CKPT_ROOT  = f'{DRIVE_ROOT}/checkpoints'\n",
    "    HF_CACHE_ROOT = f'{DRIVE_ROOT}/hf_cache'\n",
    "\n",
    "    os.makedirs(DATA_ROOT, exist_ok=True)\n",
    "    os.makedirs(CKPT_ROOT, exist_ok=True)\n",
    "    os.makedirs(HF_CACHE_ROOT, exist_ok=True)\n",
    "    os.makedirs(f\"{HF_CACHE_ROOT}/datasets\", exist_ok=True)\n",
    "    os.makedirs(f\"{HF_CACHE_ROOT}/models\", exist_ok=True)\n",
    "\n",
    "\n",
    "    print(f\"Local testing mode. Project data will use base: {DRIVE_ROOT}\")\n",
    "    # ... (rest of the print statements)"
   ]
  },
  {
   "cell_type": "code",
   "execution_count": null,
   "metadata": {},
   "outputs": [],
   "source": [
    "#Clone or Pull Repo\n",
    "import pathlib\n",
    "\n",
    "REPO_URL = \"https://github.com/mehulbhardwaj/emotion-classifier-capstone.git\"\n",
    "REPO_DIR = \"/content/emotion-classifier-capstone\"\n",
    "\n",
    "if pathlib.Path(REPO_DIR).exists():\n",
    "    %cd $REPO_DIR\n",
    "    !git pull --quiet\n",
    "else:\n",
    "    !git clone $REPO_URL $REPO_DIR --quiet\n",
    "    %cd $REPO_DIR\n"
   ]
  },
  {
   "cell_type": "code",
   "execution_count": null,
   "metadata": {},
   "outputs": [],
   "source": [
    "#Cell 3 – Install dependencies via pip\n",
    "!pip install -U pip wheel\n",
    "!pip install -q -r requirements.txt\n",
    "\n",
    "# Cache HF models & datasets on Drive\n",
    "import os\n",
    "os.environ[\"HF_HOME\"]        = f\"{DRIVE_ROOT}/hf_cache\"\n",
    "os.environ[\"HF_DATASETS_CACHE\"] = f\"{DRIVE_ROOT}/hf_cache\"\n"
   ]
  },
  {
   "cell_type": "code",
   "execution_count": null,
   "metadata": {},
   "outputs": [],
   "source": [
    "#Cell 4 – Emit a session-specific YAML override\n",
    "import pathlib, textwrap\n",
    "\n",
    "cfg_text = textwrap.dedent(f\"\"\"\n",
    "defaults:\n",
    "  - _self_\n",
    "  - model: mlp_fusion\n",
    "  - trainer: colab_gpu\n",
    "\n",
    "paths:\n",
    "  data_root: {DATA_ROOT}\n",
    "  ckpt_root: {CKPT_ROOT}\n",
    "\n",
    "training:\n",
    "  seed: 42\n",
    "\"\"\")\n",
    "\n",
    "path_cfg = pathlib.Path(\"configs/path_colab.yaml\")\n",
    "path_cfg.write_text(cfg_text)\n",
    "print(path_cfg.read_text())\n"
   ]
  },
  {
   "cell_type": "code",
   "execution_count": null,
   "metadata": {},
   "outputs": [],
   "source": [
    "#Cell 5 – Run (or resume) training\n",
    "# ────────────────────────────────────────────────────────────────────────────\n",
    "# This picks up `last.ckpt` (if present), writes new ckpts every 500 steps,\n",
    "# and now cfg.experiment_name is guaranteed to exist.\n",
    "# ────────────────────────────────────────────────────────────────────────────\n",
    "!python main.py \\\n",
    "   --config_file configs/path_colab.yaml \\\n",
    "   --architecture mlp_fusion \\\n",
    "   --train_model \\\n",
    "   --num_epochs 1 \\\n",
    "   --experiment_name \"mlp_fusion_local_smoke_test\" \\\n",
    "   --limit_dialogues_train 50 \\\n",
    "   --limit_dialogues_dev 10 \\\n",
    "   --limit_dialogues_test 10 \\\n",
    "   --batch_size 16 \\\n",
    "   --learning_rate 3e-4 \\\n",
    "   --experiment_name mlp_fusion\n"
   ]
  },
  {
   "cell_type": "code",
   "execution_count": null,
   "metadata": {},
   "outputs": [],
   "source": [
    "#Cell 6 – Validation / Inference\n",
    "!python main.py \\\n",
    "   --config_file configs/path_colab.yaml \\\n",
    "   --evaluate_model {CKPT_ROOT}/mlp_fusion/last.ckpt\n"
   ]
  }
 ],
 "metadata": {
  "language_info": {
   "name": "python"
  }
 },
 "nbformat": 4,
 "nbformat_minor": 2
}
